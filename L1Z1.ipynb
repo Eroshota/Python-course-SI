{
 "cells": [
  {
   "cell_type": "code",
   "execution_count": 13,
   "metadata": {
    "collapsed": true
   },
   "outputs": [],
   "source": [
    "from numpy import *\n",
    "from matplotlib.pyplot import*\n",
    "from random import *\n",
    "def tab():\n",
    "    tab=[]\n",
    "    tab2=[]\n",
    "    size=randint(2,10)\n",
    "    for i in range(size):\n",
    "        tab.append(randint(-9,9))\n",
    "    return tab\n",
    "def bucket(tab):\n",
    "    t1=tab\n",
    "    s=len(t1)\n",
    "    mx=max(t1)+1\n",
    "    mi=min(t1)\n",
    "    j=0\n",
    "    t=0\n",
    "    t2=[]\n",
    "    t3=[]\n",
    "    t4=[]\n",
    "    for i in range (mi,mx):\n",
    "        t=0\n",
    "        j=1\n",
    "        while (j<=s):\n",
    "            if (t1[j-1]==i):\n",
    "                t2.append(i)\n",
    "                j=s\n",
    "            j=j+1\n",
    "            if (j>s):\n",
    "                break\n",
    "    for i in range(len(t2)):\n",
    "        for j in range(len(t1)):\n",
    "            if t2[i]==t1[j]:\n",
    "                t3.append(t1[j])\n",
    "    for k in range(len(t3)):\n",
    "        t4.append(t3[len(t3)-k-1])\n",
    "    print(\"przed sortowaniem\",t1)\n",
    "    print(\"rosnąco\",t3)\n",
    "    print(\"malejąco\",t4)\n",
    "    print(\"Wszystkie wylosowane inty zostały posegregowane\")"
   ]
  },
  {
   "cell_type": "code",
   "execution_count": 16,
   "metadata": {},
   "outputs": [
    {
     "name": "stdout",
     "output_type": "stream",
     "text": [
      "przed sortowaniem [-1, -3, 9]\n",
      "rosnąco [-3, -1, 9]\n",
      "malejąco [9, -1, -3]\n",
      "Wszystkie wylosowane inty zostały posegregowane\n"
     ]
    }
   ],
   "source": [
    "t=tab()\n",
    "bucket(t)"
   ]
  },
  {
   "cell_type": "code",
   "execution_count": null,
   "metadata": {
    "collapsed": true
   },
   "outputs": [],
   "source": []
  },
  {
   "cell_type": "code",
   "execution_count": null,
   "metadata": {
    "collapsed": true
   },
   "outputs": [],
   "source": []
  }
 ],
 "metadata": {
  "kernelspec": {
   "display_name": "Python 3",
   "language": "python",
   "name": "python3"
  },
  "language_info": {
   "codemirror_mode": {
    "name": "ipython",
    "version": 3
   },
   "file_extension": ".py",
   "mimetype": "text/x-python",
   "name": "python",
   "nbconvert_exporter": "python",
   "pygments_lexer": "ipython3",
   "version": "3.6.2"
  }
 },
 "nbformat": 4,
 "nbformat_minor": 2
}
