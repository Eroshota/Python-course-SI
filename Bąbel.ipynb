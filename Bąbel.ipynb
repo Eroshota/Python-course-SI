{
 "cells": [
  {
   "cell_type": "code",
   "execution_count": 22,
   "metadata": {
    "collapsed": true
   },
   "outputs": [],
   "source": [
    "from numpy import *\n",
    "from matplotlib.pyplot import*\n",
    "from random import *\n",
    "def tab():\n",
    "    tab=[]\n",
    "    tab2=[]\n",
    "    size=randint(2,10)\n",
    "    for i in range(size):\n",
    "        tab.append(randint(-9,9))\n",
    "    return tab"
   ]
  },
  {
   "cell_type": "code",
   "execution_count": 43,
   "metadata": {},
   "outputs": [],
   "source": [
    "def babel(tab):\n",
    "    tab1=tab\n",
    "    print(\"przed sortowaniem bąbelkowym\",tab1)\n",
    "    s = len(tab)\n",
    "    for i in range(s):\n",
    "        for j in range(0, s-i-1):\n",
    "            if tab1[j] > tab1[j+1] :\n",
    "                tab1[j], tab1[j+1] = tab1[j+1], tab1[j]\n",
    "    print(\"po sortowaniu bąbelkowym\",tab1)"
   ]
  },
  {
   "cell_type": "code",
   "execution_count": 44,
   "metadata": {},
   "outputs": [
    {
     "name": "stdout",
     "output_type": "stream",
     "text": [
      "przed sortowaniem bąbelkowym [-8, 5, -8, -7, -6, -4, 4]\n",
      "po sortowaniu bąbelkowym [-8, -8, -7, -6, -4, 4, 5]\n"
     ]
    }
   ],
   "source": [
    "t1=tab()\n",
    "babel(t1)\n",
    "\n",
    " "
   ]
  },
  {
   "cell_type": "code",
   "execution_count": null,
   "metadata": {
    "collapsed": true
   },
   "outputs": [],
   "source": []
  },
  {
   "cell_type": "code",
   "execution_count": null,
   "metadata": {
    "collapsed": true
   },
   "outputs": [],
   "source": []
  }
 ],
 "metadata": {
  "kernelspec": {
   "display_name": "Python 3",
   "language": "python",
   "name": "python3"
  },
  "language_info": {
   "codemirror_mode": {
    "name": "ipython",
    "version": 3
   },
   "file_extension": ".py",
   "mimetype": "text/x-python",
   "name": "python",
   "nbconvert_exporter": "python",
   "pygments_lexer": "ipython3",
   "version": "3.6.2"
  }
 },
 "nbformat": 4,
 "nbformat_minor": 2
}
